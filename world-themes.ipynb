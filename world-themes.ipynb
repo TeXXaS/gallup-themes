{
 "cells": [
  {
   "cell_type": "markdown",
   "metadata": {},
   "source": [
    "In the same directory, there is `talents.txt` file. That is PDF content provided by Gallup(tm) please note that they are owner of this content.\n",
    "\n",
    "Countries taken from here: https://gist.github.com/pamelafox/986163 - I had to do some changes, that is why I have a copy.\n",
    "\n",
    "To run this script pandas, folium, xlrd, xlwt modules are needed.\n",
    "\n",
    "Have a fun!"
   ]
  },
  {
   "cell_type": "markdown",
   "metadata": {},
   "source": [
    "Take `talents.txt`, and creates `talents2.xls` with geo coordinates. "
   ]
  },
  {
   "cell_type": "code",
   "execution_count": null,
   "metadata": {},
   "outputs": [],
   "source": [
    "from helper import convert_to_excel, legend\n",
    "\n",
    "#convert_to_excel('talents.txt', 'talents2.xls')"
   ]
  },
  {
   "cell_type": "markdown",
   "metadata": {},
   "source": [
    "Read dataframe from `talents2.xls`"
   ]
  },
  {
   "cell_type": "code",
   "execution_count": null,
   "metadata": {},
   "outputs": [],
   "source": [
    "import pandas as pd\n",
    "\n",
    "df = pd.read_excel('talents2.xls')"
   ]
  },
  {
   "cell_type": "markdown",
   "metadata": {},
   "source": [
    "remove females, males, all entries (the ones without coordinates)"
   ]
  },
  {
   "cell_type": "code",
   "execution_count": null,
   "metadata": {},
   "outputs": [],
   "source": [
    "df = df.dropna(subset=['lon'])\n",
    "df = df.dropna(subset=['lat'])"
   ]
  },
  {
   "cell_type": "markdown",
   "metadata": {},
   "source": [
    "Print out map with Learners!"
   ]
  },
  {
   "cell_type": "code",
   "execution_count": null,
   "metadata": {},
   "outputs": [],
   "source": [
    "import folium\n",
    "from folium import plugins\n",
    "\n",
    "sections = [\n",
    "    {'color': \"#007849\", 'fill_color':\"#015627\",\n",
    "     'description': \"Coverage\",\n",
    "     'start_angle':0, 'stop_angle':120},\n",
    "    {'color': \"#8BB0EC\", 'fill_color':\"#6990BA\",\n",
    "     'description': \"Respondents\",\n",
    "     'start_angle':121, 'stop_angle':240},\n",
    "    {'color': \"#FF3C3C\", 'fill_color':\"#BB0909\",\n",
    "     'description': \"Population\",\n",
    "     'start_angle':241, 'stop_angle':360}\n",
    "]\n",
    "\n",
    "def put_piechart(folium_map, location, row):\n",
    "    entries = []\n",
    "    if row['respondents'] and row['population']:\n",
    "        cover =  10000000.0 * float(row['respondents']) / float(row['population'])\n",
    "    else:\n",
    "        cover = 1\n",
    "    e = sections[0].copy()\n",
    "    e['radius'] = cover\n",
    "    entries.append(e)\n",
    "    if row['respondents']:\n",
    "        respondents = float(row['respondents']) / 10.0\n",
    "    else:\n",
    "        respondents = 1\n",
    "    e = sections[1].copy()\n",
    "    e['radius'] = respondents\n",
    "    entries.append(e)\n",
    "    if row['population']:\n",
    "        population = float(row['population']) / 1000.0\n",
    "    else:\n",
    "        population = 1\n",
    "    e = sections[2].copy()\n",
    "    e['radius'] = population\n",
    "    entries.append(e)\n",
    "    popup_text = f\"\"\"country: {row['country']}<br> \n",
    "respondants: {row['respondents']}<br> \n",
    "population: {row['population']}<br> \n",
    "coverage: {row['cover']}\n",
    "\"\"\"\n",
    "\n",
    "    for e in entries:\n",
    "        plugins.SemiCircle(location=(row['lat'], row['lon']), \n",
    "                           radius=e['radius'], \n",
    "                           start_angle=e['start_angle'], stop_angle=e['stop_angle'],\n",
    "                           color=e['color'], fill_color=e['fill_color'], fill=True, fill_opacity=0.7,\n",
    "                           popup=popup_text, tooltip=f\"{row['country']}\"\n",
    "                          ).add_to(folium_map)\n",
    "\n",
    "\n",
    "folium_map = folium.Map(location=(32.2297700, 21.0117800), zoom_start=2)\n",
    "\n",
    "for index, row in df.iterrows():\n",
    "    put_piechart(folium_map, location=(row[\"lat\"], row[\"lon\"]), row=row)\n",
    "    \n",
    "legend(folium_map, sections)"
   ]
  },
  {
   "cell_type": "markdown",
   "metadata": {},
   "source": [
    "Sample output stored in html - github is not supporting folium...."
   ]
  },
  {
   "cell_type": "code",
   "execution_count": null,
   "metadata": {},
   "outputs": [],
   "source": [
    "#folium_map.save(\"sample_demography.html\")"
   ]
  },
  {
   "cell_type": "markdown",
   "metadata": {},
   "source": [
    "Print out output on screen."
   ]
  },
  {
   "cell_type": "code",
   "execution_count": null,
   "metadata": {},
   "outputs": [],
   "source": [
    "folium_map"
   ]
  },
  {
   "cell_type": "code",
   "execution_count": null,
   "metadata": {},
   "outputs": [],
   "source": [
    "import folium\n",
    "from folium import plugins\n",
    "\n",
    "sections = [\n",
    "    {'color': \"#007849\", 'fill_color':\"#015627\",\n",
    "     'description': \"Coverage\",\n",
    "     'start_angle':0, 'stop_angle':120},\n",
    "    {'color': \"#8BB0EC\", 'fill_color':\"#6990BA\",\n",
    "     'description': \"Respondents\",\n",
    "     'start_angle':121, 'stop_angle':240},\n",
    "    {'color': \"#FF3C3C\", 'fill_color':\"#BB0909\",\n",
    "     'description': \"Population\",\n",
    "     'start_angle':241, 'stop_angle':360}\n",
    "]\n",
    "\n",
    "def put_piechart(folium_map, location, row):\n",
    "    entries = []\n",
    "    if row['respondents'] and row['population']:\n",
    "        cover =  10000000.0 * float(row['respondents']) / float(row['population'])\n",
    "    else:\n",
    "        cover = 1\n",
    "    e = sections[0].copy()\n",
    "    e['radius'] = cover\n",
    "    entries.append(e)\n",
    "    if row['respondents']:\n",
    "        respondents = float(row['respondents']) / 10.0\n",
    "    else:\n",
    "        respondents = 1\n",
    "    e = sections[1].copy()\n",
    "    e['radius'] = respondents\n",
    "    entries.append(e)\n",
    "    if row['population']:\n",
    "        population = float(row['population']) / 1000.0\n",
    "    else:\n",
    "        population = 1\n",
    "    e = sections[2].copy()\n",
    "    e['radius'] = population\n",
    "    entries.append(e)\n",
    "    popup_text = f\"\"\"country: {row['country']}<br> \n",
    "respondants: {row['respondents']}<br> \n",
    "population: {row['population']}<br> \n",
    "coverage: {row['cover']}\n",
    "\"\"\"\n",
    "\n",
    "    for e in entries:\n",
    "        plugins.SemiCircle(location=(row['lat'], row['lon']), \n",
    "                           radius=e['radius'], \n",
    "                           start_angle=e['start_angle'], stop_angle=e['stop_angle'],\n",
    "                           color=e['color'], fill_color=e['fill_color'], fill=True, fill_opacity=0.7,\n",
    "                           popup=popup_text, tooltip=f\"{row['country']}\"\n",
    "                          ).add_to(folium_map)\n",
    "\n",
    "\n",
    "folium_map = folium.Map(location=(32.2297700, 21.0117800), zoom_start=2)\n",
    "\n",
    "for index, row in df.iterrows():\n",
    "    put_piechart(folium_map, location=(row[\"lat\"], row[\"lon\"]), row=row)\n",
    "    \n",
    "legend(folium_map, sections)"
   ]
  }
 ],
 "metadata": {
  "kernelspec": {
   "display_name": "Python 3",
   "language": "python",
   "name": "python3"
  },
  "language_info": {
   "codemirror_mode": {
    "name": "ipython",
    "version": 3
   },
   "file_extension": ".py",
   "mimetype": "text/x-python",
   "name": "python",
   "nbconvert_exporter": "python",
   "pygments_lexer": "ipython3",
   "version": "3.8.2"
  }
 },
 "nbformat": 4,
 "nbformat_minor": 4
}